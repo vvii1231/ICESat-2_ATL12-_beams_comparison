{
 "cells": [
  {
   "cell_type": "code",
   "execution_count": null,
   "metadata": {},
   "outputs": [],
   "source": [
    "base_dir = r'F:\\nasa\\is2\\atl12'\n",
    "beam1_data = pd.DataFrame()\n",
    "\n",
    "for cycle_folder in os.listdir(base_dir):\n",
    "    cycle_path = os.path.join(base_dir, cycle_folder, 'beam1')  # 进入beam1文件夹\n",
    "    \n",
    "    \n",
    "    if os.path.isdir(cycle_path):\n",
    "      \n",
    "        for file in os.listdir(cycle_path):\n",
    "            if file.endswith('.csv'): \n",
    "                file_path = os.path.join(cycle_path, file)\n",
    "                \n",
    "        \n",
    "                cycle_data = pd.read_csv(file_path)\n",
    "                beam1_data = pd.concat([beam1_data, cycle_data], ignore_index=True)\n",
    "\n",
    "\n",
    "\n",
    "beam1_data.loc[:, 'Date'] = pd.to_datetime(beam1_data['Date'])\n",
    "monthly_avg_ssha_beam1 = beam1_data.resample('MS', on='Date').mean()['SSHA_DTU21']\n",
    "monthly_avg_ssha_beam1\n",
    "\n",
    "# Treat beam3, beam5 in the same way"
   ]
  },
  {
   "cell_type": "code",
   "execution_count": null,
   "metadata": {},
   "outputs": [],
   "source": [
    "plt.figure(figsize=(40, 20))\n",
    "\n",
    "plt.plot(monthly_avg_ssha_beam5.index, monthly_avg_ssha_beam5, marker='o', markersize=18, label='beam5', linewidth=5)\n",
    "plt.plot(monthly_avg_ssha_beam3.index, monthly_avg_ssha_beam3, marker='o', markersize=18, label='beam3', linewidth=5)\n",
    "plt.plot(monthly_avg_ssha_beam1.index, monthly_avg_ssha_beam1, marker='o', markersize=18, label='beam1', linewidth=5)\n",
    "\n",
    "plt.gca().xaxis.set_major_formatter(mdates.DateFormatter('%Y-%m'))\n",
    "\n",
    "custom_ticks = pd.to_datetime(['2018-10', '2019-06', '2020-02', '2020-10', '2021-06', '2022-02', '2022-10', '2023-06'])\n",
    "plt.gca().set_xticks(custom_ticks)\n",
    "\n",
    "# 添加小刻度线\n",
    "plt.minorticks_on()\n",
    "# plt.tick_params(which='minor', direction='in', length=10, width=2)\n",
    "plt.tick_params(which='major', direction='in', length=15, width=2, pad=50)\n",
    "\n",
    "\n",
    "plt.gca().yaxis.set_major_formatter(FormatStrFormatter('%.2f'))\n",
    "plt.gca().set_yticks([-0.85, -0.80, -0.75, -0.70, -0.65, -0.60])\n",
    "plt.legend(fontsize=40, loc=2)\n",
    "\n",
    "plt.xticks(fontsize=80)\n",
    "plt.yticks(fontsize=80)\n",
    "\n",
    "plt.show()"
   ]
  }
 ],
 "metadata": {
  "kernelspec": {
   "display_name": "base",
   "language": "python",
   "name": "python3"
  },
  "language_info": {
   "codemirror_mode": {
    "name": "ipython",
    "version": 3
   },
   "file_extension": ".py",
   "mimetype": "text/x-python",
   "name": "python",
   "nbconvert_exporter": "python",
   "pygments_lexer": "ipython3",
   "version": "3.11.5"
  }
 },
 "nbformat": 4,
 "nbformat_minor": 2
}
